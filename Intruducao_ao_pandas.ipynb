{
 "cells": [
  {
   "cell_type": "markdown",
   "metadata": {},
   "source": [
    "# Intrudução ao Pandas"
   ]
  },
  {
   "cell_type": "markdown",
   "metadata": {},
   "source": [
    "##### Por: Caio Euzébio"
   ]
  },
  {
   "cell_type": "code",
   "execution_count": 36,
   "metadata": {},
   "outputs": [],
   "source": [
    "# Importando Pandas e Numpy"
   ]
  },
  {
   "cell_type": "code",
   "execution_count": 2,
   "metadata": {},
   "outputs": [],
   "source": [
    "import pandas as pd\n",
    "import numpy as np"
   ]
  },
  {
   "cell_type": "code",
   "execution_count": 8,
   "metadata": {},
   "outputs": [],
   "source": [
    "# criando um DataFrame com intervalo de numeros aleatorios utilizando o numpy + pandas.\n",
    "\n",
    "df = pd.DataFrame(np.random.randn(5,5), index='0 1 2 3 4'.split(), columns=' A B C D E'.split())\n"
   ]
  },
  {
   "cell_type": "code",
   "execution_count": 9,
   "metadata": {},
   "outputs": [
    {
     "data": {
      "text/html": [
       "<div>\n",
       "<style scoped>\n",
       "    .dataframe tbody tr th:only-of-type {\n",
       "        vertical-align: middle;\n",
       "    }\n",
       "\n",
       "    .dataframe tbody tr th {\n",
       "        vertical-align: top;\n",
       "    }\n",
       "\n",
       "    .dataframe thead th {\n",
       "        text-align: right;\n",
       "    }\n",
       "</style>\n",
       "<table border=\"1\" class=\"dataframe\">\n",
       "  <thead>\n",
       "    <tr style=\"text-align: right;\">\n",
       "      <th></th>\n",
       "      <th>A</th>\n",
       "      <th>B</th>\n",
       "      <th>C</th>\n",
       "      <th>D</th>\n",
       "      <th>E</th>\n",
       "    </tr>\n",
       "  </thead>\n",
       "  <tbody>\n",
       "    <tr>\n",
       "      <td>0</td>\n",
       "      <td>-0.747569</td>\n",
       "      <td>1.466959</td>\n",
       "      <td>-0.771553</td>\n",
       "      <td>-0.177242</td>\n",
       "      <td>0.265721</td>\n",
       "    </tr>\n",
       "    <tr>\n",
       "      <td>1</td>\n",
       "      <td>-0.435350</td>\n",
       "      <td>-0.761461</td>\n",
       "      <td>0.806626</td>\n",
       "      <td>1.776997</td>\n",
       "      <td>0.177392</td>\n",
       "    </tr>\n",
       "    <tr>\n",
       "      <td>2</td>\n",
       "      <td>0.955084</td>\n",
       "      <td>-0.100296</td>\n",
       "      <td>1.328632</td>\n",
       "      <td>-1.102829</td>\n",
       "      <td>-1.395166</td>\n",
       "    </tr>\n",
       "    <tr>\n",
       "      <td>3</td>\n",
       "      <td>-0.124434</td>\n",
       "      <td>1.494115</td>\n",
       "      <td>1.201365</td>\n",
       "      <td>-1.884539</td>\n",
       "      <td>-0.215917</td>\n",
       "    </tr>\n",
       "    <tr>\n",
       "      <td>4</td>\n",
       "      <td>1.032190</td>\n",
       "      <td>0.817873</td>\n",
       "      <td>-1.095693</td>\n",
       "      <td>-1.437759</td>\n",
       "      <td>-0.165222</td>\n",
       "    </tr>\n",
       "  </tbody>\n",
       "</table>\n",
       "</div>"
      ],
      "text/plain": [
       "          A         B         C         D         E\n",
       "0 -0.747569  1.466959 -0.771553 -0.177242  0.265721\n",
       "1 -0.435350 -0.761461  0.806626  1.776997  0.177392\n",
       "2  0.955084 -0.100296  1.328632 -1.102829 -1.395166\n",
       "3 -0.124434  1.494115  1.201365 -1.884539 -0.215917\n",
       "4  1.032190  0.817873 -1.095693 -1.437759 -0.165222"
      ]
     },
     "execution_count": 9,
     "metadata": {},
     "output_type": "execute_result"
    }
   ],
   "source": [
    "df"
   ]
  },
  {
   "cell_type": "code",
   "execution_count": 10,
   "metadata": {},
   "outputs": [
    {
     "data": {
      "text/plain": [
       "0   -0.747569\n",
       "1   -0.435350\n",
       "2    0.955084\n",
       "3   -0.124434\n",
       "4    1.032190\n",
       "Name: A, dtype: float64"
      ]
     },
     "execution_count": 10,
     "metadata": {},
     "output_type": "execute_result"
    }
   ],
   "source": [
    "# Selecionando uma coluna\n",
    "\n",
    "df['A']"
   ]
  },
  {
   "cell_type": "code",
   "execution_count": 11,
   "metadata": {},
   "outputs": [
    {
     "data": {
      "text/html": [
       "<div>\n",
       "<style scoped>\n",
       "    .dataframe tbody tr th:only-of-type {\n",
       "        vertical-align: middle;\n",
       "    }\n",
       "\n",
       "    .dataframe tbody tr th {\n",
       "        vertical-align: top;\n",
       "    }\n",
       "\n",
       "    .dataframe thead th {\n",
       "        text-align: right;\n",
       "    }\n",
       "</style>\n",
       "<table border=\"1\" class=\"dataframe\">\n",
       "  <thead>\n",
       "    <tr style=\"text-align: right;\">\n",
       "      <th></th>\n",
       "      <th>A</th>\n",
       "      <th>B</th>\n",
       "      <th>C</th>\n",
       "    </tr>\n",
       "  </thead>\n",
       "  <tbody>\n",
       "    <tr>\n",
       "      <td>0</td>\n",
       "      <td>-0.747569</td>\n",
       "      <td>1.466959</td>\n",
       "      <td>-0.771553</td>\n",
       "    </tr>\n",
       "    <tr>\n",
       "      <td>1</td>\n",
       "      <td>-0.435350</td>\n",
       "      <td>-0.761461</td>\n",
       "      <td>0.806626</td>\n",
       "    </tr>\n",
       "    <tr>\n",
       "      <td>2</td>\n",
       "      <td>0.955084</td>\n",
       "      <td>-0.100296</td>\n",
       "      <td>1.328632</td>\n",
       "    </tr>\n",
       "    <tr>\n",
       "      <td>3</td>\n",
       "      <td>-0.124434</td>\n",
       "      <td>1.494115</td>\n",
       "      <td>1.201365</td>\n",
       "    </tr>\n",
       "    <tr>\n",
       "      <td>4</td>\n",
       "      <td>1.032190</td>\n",
       "      <td>0.817873</td>\n",
       "      <td>-1.095693</td>\n",
       "    </tr>\n",
       "  </tbody>\n",
       "</table>\n",
       "</div>"
      ],
      "text/plain": [
       "          A         B         C\n",
       "0 -0.747569  1.466959 -0.771553\n",
       "1 -0.435350 -0.761461  0.806626\n",
       "2  0.955084 -0.100296  1.328632\n",
       "3 -0.124434  1.494115  1.201365\n",
       "4  1.032190  0.817873 -1.095693"
      ]
     },
     "execution_count": 11,
     "metadata": {},
     "output_type": "execute_result"
    }
   ],
   "source": [
    "# Selecionando multiplas Colunas\n",
    "\n",
    "df[['A', 'B', 'C']]"
   ]
  },
  {
   "cell_type": "code",
   "execution_count": 12,
   "metadata": {},
   "outputs": [],
   "source": [
    "# Criando uma nova coluna\n",
    "\n",
    "df['Nova Coluna'] = ''"
   ]
  },
  {
   "cell_type": "code",
   "execution_count": 13,
   "metadata": {},
   "outputs": [
    {
     "data": {
      "text/html": [
       "<div>\n",
       "<style scoped>\n",
       "    .dataframe tbody tr th:only-of-type {\n",
       "        vertical-align: middle;\n",
       "    }\n",
       "\n",
       "    .dataframe tbody tr th {\n",
       "        vertical-align: top;\n",
       "    }\n",
       "\n",
       "    .dataframe thead th {\n",
       "        text-align: right;\n",
       "    }\n",
       "</style>\n",
       "<table border=\"1\" class=\"dataframe\">\n",
       "  <thead>\n",
       "    <tr style=\"text-align: right;\">\n",
       "      <th></th>\n",
       "      <th>A</th>\n",
       "      <th>B</th>\n",
       "      <th>C</th>\n",
       "      <th>D</th>\n",
       "      <th>E</th>\n",
       "      <th>Nova Coluna</th>\n",
       "    </tr>\n",
       "  </thead>\n",
       "  <tbody>\n",
       "    <tr>\n",
       "      <td>0</td>\n",
       "      <td>-0.747569</td>\n",
       "      <td>1.466959</td>\n",
       "      <td>-0.771553</td>\n",
       "      <td>-0.177242</td>\n",
       "      <td>0.265721</td>\n",
       "      <td></td>\n",
       "    </tr>\n",
       "    <tr>\n",
       "      <td>1</td>\n",
       "      <td>-0.435350</td>\n",
       "      <td>-0.761461</td>\n",
       "      <td>0.806626</td>\n",
       "      <td>1.776997</td>\n",
       "      <td>0.177392</td>\n",
       "      <td></td>\n",
       "    </tr>\n",
       "    <tr>\n",
       "      <td>2</td>\n",
       "      <td>0.955084</td>\n",
       "      <td>-0.100296</td>\n",
       "      <td>1.328632</td>\n",
       "      <td>-1.102829</td>\n",
       "      <td>-1.395166</td>\n",
       "      <td></td>\n",
       "    </tr>\n",
       "    <tr>\n",
       "      <td>3</td>\n",
       "      <td>-0.124434</td>\n",
       "      <td>1.494115</td>\n",
       "      <td>1.201365</td>\n",
       "      <td>-1.884539</td>\n",
       "      <td>-0.215917</td>\n",
       "      <td></td>\n",
       "    </tr>\n",
       "    <tr>\n",
       "      <td>4</td>\n",
       "      <td>1.032190</td>\n",
       "      <td>0.817873</td>\n",
       "      <td>-1.095693</td>\n",
       "      <td>-1.437759</td>\n",
       "      <td>-0.165222</td>\n",
       "      <td></td>\n",
       "    </tr>\n",
       "  </tbody>\n",
       "</table>\n",
       "</div>"
      ],
      "text/plain": [
       "          A         B         C         D         E Nova Coluna\n",
       "0 -0.747569  1.466959 -0.771553 -0.177242  0.265721            \n",
       "1 -0.435350 -0.761461  0.806626  1.776997  0.177392            \n",
       "2  0.955084 -0.100296  1.328632 -1.102829 -1.395166            \n",
       "3 -0.124434  1.494115  1.201365 -1.884539 -0.215917            \n",
       "4  1.032190  0.817873 -1.095693 -1.437759 -0.165222            "
      ]
     },
     "execution_count": 13,
     "metadata": {},
     "output_type": "execute_result"
    }
   ],
   "source": [
    "df"
   ]
  },
  {
   "cell_type": "code",
   "execution_count": 16,
   "metadata": {},
   "outputs": [],
   "source": [
    "# Criando uma nova coluna partindo de uma operação\n",
    "\n",
    "df['Nova Coluna Soma A e B'] = df['A'] + df['B']"
   ]
  },
  {
   "cell_type": "code",
   "execution_count": 17,
   "metadata": {},
   "outputs": [
    {
     "data": {
      "text/html": [
       "<div>\n",
       "<style scoped>\n",
       "    .dataframe tbody tr th:only-of-type {\n",
       "        vertical-align: middle;\n",
       "    }\n",
       "\n",
       "    .dataframe tbody tr th {\n",
       "        vertical-align: top;\n",
       "    }\n",
       "\n",
       "    .dataframe thead th {\n",
       "        text-align: right;\n",
       "    }\n",
       "</style>\n",
       "<table border=\"1\" class=\"dataframe\">\n",
       "  <thead>\n",
       "    <tr style=\"text-align: right;\">\n",
       "      <th></th>\n",
       "      <th>A</th>\n",
       "      <th>B</th>\n",
       "      <th>C</th>\n",
       "      <th>D</th>\n",
       "      <th>E</th>\n",
       "      <th>Nova Coluna</th>\n",
       "      <th>Nova Coluna Soma A e B</th>\n",
       "    </tr>\n",
       "  </thead>\n",
       "  <tbody>\n",
       "    <tr>\n",
       "      <td>0</td>\n",
       "      <td>-0.747569</td>\n",
       "      <td>1.466959</td>\n",
       "      <td>-0.771553</td>\n",
       "      <td>-0.177242</td>\n",
       "      <td>0.265721</td>\n",
       "      <td></td>\n",
       "      <td>0.719389</td>\n",
       "    </tr>\n",
       "    <tr>\n",
       "      <td>1</td>\n",
       "      <td>-0.435350</td>\n",
       "      <td>-0.761461</td>\n",
       "      <td>0.806626</td>\n",
       "      <td>1.776997</td>\n",
       "      <td>0.177392</td>\n",
       "      <td></td>\n",
       "      <td>-1.196811</td>\n",
       "    </tr>\n",
       "    <tr>\n",
       "      <td>2</td>\n",
       "      <td>0.955084</td>\n",
       "      <td>-0.100296</td>\n",
       "      <td>1.328632</td>\n",
       "      <td>-1.102829</td>\n",
       "      <td>-1.395166</td>\n",
       "      <td></td>\n",
       "      <td>0.854788</td>\n",
       "    </tr>\n",
       "    <tr>\n",
       "      <td>3</td>\n",
       "      <td>-0.124434</td>\n",
       "      <td>1.494115</td>\n",
       "      <td>1.201365</td>\n",
       "      <td>-1.884539</td>\n",
       "      <td>-0.215917</td>\n",
       "      <td></td>\n",
       "      <td>1.369681</td>\n",
       "    </tr>\n",
       "    <tr>\n",
       "      <td>4</td>\n",
       "      <td>1.032190</td>\n",
       "      <td>0.817873</td>\n",
       "      <td>-1.095693</td>\n",
       "      <td>-1.437759</td>\n",
       "      <td>-0.165222</td>\n",
       "      <td></td>\n",
       "      <td>1.850063</td>\n",
       "    </tr>\n",
       "  </tbody>\n",
       "</table>\n",
       "</div>"
      ],
      "text/plain": [
       "          A         B         C         D         E Nova Coluna  \\\n",
       "0 -0.747569  1.466959 -0.771553 -0.177242  0.265721               \n",
       "1 -0.435350 -0.761461  0.806626  1.776997  0.177392               \n",
       "2  0.955084 -0.100296  1.328632 -1.102829 -1.395166               \n",
       "3 -0.124434  1.494115  1.201365 -1.884539 -0.215917               \n",
       "4  1.032190  0.817873 -1.095693 -1.437759 -0.165222               \n",
       "\n",
       "   Nova Coluna Soma A e B  \n",
       "0                0.719389  \n",
       "1               -1.196811  \n",
       "2                0.854788  \n",
       "3                1.369681  \n",
       "4                1.850063  "
      ]
     },
     "execution_count": 17,
     "metadata": {},
     "output_type": "execute_result"
    }
   ],
   "source": [
    "df"
   ]
  },
  {
   "cell_type": "code",
   "execution_count": 21,
   "metadata": {},
   "outputs": [],
   "source": [
    "# Deletando uma coluna\n",
    "\n",
    "df = df.drop('Nova Coluna Soma A e B', axis=1)"
   ]
  },
  {
   "cell_type": "code",
   "execution_count": 22,
   "metadata": {},
   "outputs": [
    {
     "data": {
      "text/html": [
       "<div>\n",
       "<style scoped>\n",
       "    .dataframe tbody tr th:only-of-type {\n",
       "        vertical-align: middle;\n",
       "    }\n",
       "\n",
       "    .dataframe tbody tr th {\n",
       "        vertical-align: top;\n",
       "    }\n",
       "\n",
       "    .dataframe thead th {\n",
       "        text-align: right;\n",
       "    }\n",
       "</style>\n",
       "<table border=\"1\" class=\"dataframe\">\n",
       "  <thead>\n",
       "    <tr style=\"text-align: right;\">\n",
       "      <th></th>\n",
       "      <th>A</th>\n",
       "      <th>B</th>\n",
       "      <th>C</th>\n",
       "      <th>D</th>\n",
       "      <th>E</th>\n",
       "      <th>Nova Coluna</th>\n",
       "    </tr>\n",
       "  </thead>\n",
       "  <tbody>\n",
       "    <tr>\n",
       "      <td>0</td>\n",
       "      <td>-0.747569</td>\n",
       "      <td>1.466959</td>\n",
       "      <td>-0.771553</td>\n",
       "      <td>-0.177242</td>\n",
       "      <td>0.265721</td>\n",
       "      <td></td>\n",
       "    </tr>\n",
       "    <tr>\n",
       "      <td>1</td>\n",
       "      <td>-0.435350</td>\n",
       "      <td>-0.761461</td>\n",
       "      <td>0.806626</td>\n",
       "      <td>1.776997</td>\n",
       "      <td>0.177392</td>\n",
       "      <td></td>\n",
       "    </tr>\n",
       "    <tr>\n",
       "      <td>2</td>\n",
       "      <td>0.955084</td>\n",
       "      <td>-0.100296</td>\n",
       "      <td>1.328632</td>\n",
       "      <td>-1.102829</td>\n",
       "      <td>-1.395166</td>\n",
       "      <td></td>\n",
       "    </tr>\n",
       "    <tr>\n",
       "      <td>3</td>\n",
       "      <td>-0.124434</td>\n",
       "      <td>1.494115</td>\n",
       "      <td>1.201365</td>\n",
       "      <td>-1.884539</td>\n",
       "      <td>-0.215917</td>\n",
       "      <td></td>\n",
       "    </tr>\n",
       "    <tr>\n",
       "      <td>4</td>\n",
       "      <td>1.032190</td>\n",
       "      <td>0.817873</td>\n",
       "      <td>-1.095693</td>\n",
       "      <td>-1.437759</td>\n",
       "      <td>-0.165222</td>\n",
       "      <td></td>\n",
       "    </tr>\n",
       "  </tbody>\n",
       "</table>\n",
       "</div>"
      ],
      "text/plain": [
       "          A         B         C         D         E Nova Coluna\n",
       "0 -0.747569  1.466959 -0.771553 -0.177242  0.265721            \n",
       "1 -0.435350 -0.761461  0.806626  1.776997  0.177392            \n",
       "2  0.955084 -0.100296  1.328632 -1.102829 -1.395166            \n",
       "3 -0.124434  1.494115  1.201365 -1.884539 -0.215917            \n",
       "4  1.032190  0.817873 -1.095693 -1.437759 -0.165222            "
      ]
     },
     "execution_count": 22,
     "metadata": {},
     "output_type": "execute_result"
    }
   ],
   "source": [
    "df"
   ]
  },
  {
   "cell_type": "code",
   "execution_count": 23,
   "metadata": {},
   "outputs": [],
   "source": [
    "# Deletando uma coluna direto no data frame\n",
    "\n",
    "df.drop('Nova Coluna', axis=1, inplace=True)"
   ]
  },
  {
   "cell_type": "code",
   "execution_count": 24,
   "metadata": {},
   "outputs": [
    {
     "data": {
      "text/html": [
       "<div>\n",
       "<style scoped>\n",
       "    .dataframe tbody tr th:only-of-type {\n",
       "        vertical-align: middle;\n",
       "    }\n",
       "\n",
       "    .dataframe tbody tr th {\n",
       "        vertical-align: top;\n",
       "    }\n",
       "\n",
       "    .dataframe thead th {\n",
       "        text-align: right;\n",
       "    }\n",
       "</style>\n",
       "<table border=\"1\" class=\"dataframe\">\n",
       "  <thead>\n",
       "    <tr style=\"text-align: right;\">\n",
       "      <th></th>\n",
       "      <th>A</th>\n",
       "      <th>B</th>\n",
       "      <th>C</th>\n",
       "      <th>D</th>\n",
       "      <th>E</th>\n",
       "    </tr>\n",
       "  </thead>\n",
       "  <tbody>\n",
       "    <tr>\n",
       "      <td>0</td>\n",
       "      <td>-0.747569</td>\n",
       "      <td>1.466959</td>\n",
       "      <td>-0.771553</td>\n",
       "      <td>-0.177242</td>\n",
       "      <td>0.265721</td>\n",
       "    </tr>\n",
       "    <tr>\n",
       "      <td>1</td>\n",
       "      <td>-0.435350</td>\n",
       "      <td>-0.761461</td>\n",
       "      <td>0.806626</td>\n",
       "      <td>1.776997</td>\n",
       "      <td>0.177392</td>\n",
       "    </tr>\n",
       "    <tr>\n",
       "      <td>2</td>\n",
       "      <td>0.955084</td>\n",
       "      <td>-0.100296</td>\n",
       "      <td>1.328632</td>\n",
       "      <td>-1.102829</td>\n",
       "      <td>-1.395166</td>\n",
       "    </tr>\n",
       "    <tr>\n",
       "      <td>3</td>\n",
       "      <td>-0.124434</td>\n",
       "      <td>1.494115</td>\n",
       "      <td>1.201365</td>\n",
       "      <td>-1.884539</td>\n",
       "      <td>-0.215917</td>\n",
       "    </tr>\n",
       "    <tr>\n",
       "      <td>4</td>\n",
       "      <td>1.032190</td>\n",
       "      <td>0.817873</td>\n",
       "      <td>-1.095693</td>\n",
       "      <td>-1.437759</td>\n",
       "      <td>-0.165222</td>\n",
       "    </tr>\n",
       "  </tbody>\n",
       "</table>\n",
       "</div>"
      ],
      "text/plain": [
       "          A         B         C         D         E\n",
       "0 -0.747569  1.466959 -0.771553 -0.177242  0.265721\n",
       "1 -0.435350 -0.761461  0.806626  1.776997  0.177392\n",
       "2  0.955084 -0.100296  1.328632 -1.102829 -1.395166\n",
       "3 -0.124434  1.494115  1.201365 -1.884539 -0.215917\n",
       "4  1.032190  0.817873 -1.095693 -1.437759 -0.165222"
      ]
     },
     "execution_count": 24,
     "metadata": {},
     "output_type": "execute_result"
    }
   ],
   "source": [
    "df"
   ]
  },
  {
   "cell_type": "code",
   "execution_count": 26,
   "metadata": {},
   "outputs": [
    {
     "data": {
      "text/plain": [
       "-0.12443423606716034"
      ]
     },
     "execution_count": 26,
     "metadata": {},
     "output_type": "execute_result"
    }
   ],
   "source": [
    "# Localizando elementos basendo-se nos indices\n",
    "\n",
    "df.loc['3', 'A']\n"
   ]
  },
  {
   "cell_type": "code",
   "execution_count": 28,
   "metadata": {},
   "outputs": [
    {
     "data": {
      "text/html": [
       "<div>\n",
       "<style scoped>\n",
       "    .dataframe tbody tr th:only-of-type {\n",
       "        vertical-align: middle;\n",
       "    }\n",
       "\n",
       "    .dataframe tbody tr th {\n",
       "        vertical-align: top;\n",
       "    }\n",
       "\n",
       "    .dataframe thead th {\n",
       "        text-align: right;\n",
       "    }\n",
       "</style>\n",
       "<table border=\"1\" class=\"dataframe\">\n",
       "  <thead>\n",
       "    <tr style=\"text-align: right;\">\n",
       "      <th></th>\n",
       "      <th>D</th>\n",
       "      <th>E</th>\n",
       "    </tr>\n",
       "  </thead>\n",
       "  <tbody>\n",
       "    <tr>\n",
       "      <td>0</td>\n",
       "      <td>-0.177242</td>\n",
       "      <td>0.265721</td>\n",
       "    </tr>\n",
       "    <tr>\n",
       "      <td>1</td>\n",
       "      <td>1.776997</td>\n",
       "      <td>0.177392</td>\n",
       "    </tr>\n",
       "    <tr>\n",
       "      <td>2</td>\n",
       "      <td>-1.102829</td>\n",
       "      <td>-1.395166</td>\n",
       "    </tr>\n",
       "  </tbody>\n",
       "</table>\n",
       "</div>"
      ],
      "text/plain": [
       "          D         E\n",
       "0 -0.177242  0.265721\n",
       "1  1.776997  0.177392\n",
       "2 -1.102829 -1.395166"
      ]
     },
     "execution_count": 28,
     "metadata": {},
     "output_type": "execute_result"
    }
   ],
   "source": [
    "# Fatimento de DataFrame\n",
    "\n",
    "df.loc[['0', '1', '2'],['D', 'E']]"
   ]
  },
  {
   "cell_type": "code",
   "execution_count": 35,
   "metadata": {},
   "outputs": [
    {
     "data": {
      "text/html": [
       "<div>\n",
       "<style scoped>\n",
       "    .dataframe tbody tr th:only-of-type {\n",
       "        vertical-align: middle;\n",
       "    }\n",
       "\n",
       "    .dataframe tbody tr th {\n",
       "        vertical-align: top;\n",
       "    }\n",
       "\n",
       "    .dataframe thead th {\n",
       "        text-align: right;\n",
       "    }\n",
       "</style>\n",
       "<table border=\"1\" class=\"dataframe\">\n",
       "  <thead>\n",
       "    <tr style=\"text-align: right;\">\n",
       "      <th></th>\n",
       "      <th>A</th>\n",
       "      <th>B</th>\n",
       "      <th>C</th>\n",
       "    </tr>\n",
       "  </thead>\n",
       "  <tbody>\n",
       "    <tr>\n",
       "      <td>1</td>\n",
       "      <td>-0.435350</td>\n",
       "      <td>-0.761461</td>\n",
       "      <td>0.806626</td>\n",
       "    </tr>\n",
       "    <tr>\n",
       "      <td>2</td>\n",
       "      <td>0.955084</td>\n",
       "      <td>-0.100296</td>\n",
       "      <td>1.328632</td>\n",
       "    </tr>\n",
       "    <tr>\n",
       "      <td>3</td>\n",
       "      <td>-0.124434</td>\n",
       "      <td>1.494115</td>\n",
       "      <td>1.201365</td>\n",
       "    </tr>\n",
       "  </tbody>\n",
       "</table>\n",
       "</div>"
      ],
      "text/plain": [
       "          A         B         C\n",
       "1 -0.435350 -0.761461  0.806626\n",
       "2  0.955084 -0.100296  1.328632\n",
       "3 -0.124434  1.494115  1.201365"
      ]
     },
     "execution_count": 35,
     "metadata": {},
     "output_type": "execute_result"
    }
   ],
   "source": [
    "# Tambem é possivel fazer uma seleção/fatiamento utilizando o metodo iloc baseado em indices\n",
    "\n",
    "df.iloc[1:4, 0:3]"
   ]
  },
  {
   "cell_type": "code",
   "execution_count": null,
   "metadata": {},
   "outputs": [],
   "source": []
  }
 ],
 "metadata": {
  "kernelspec": {
   "display_name": "Python 3",
   "language": "python",
   "name": "python3"
  },
  "language_info": {
   "codemirror_mode": {
    "name": "ipython",
    "version": 3
   },
   "file_extension": ".py",
   "mimetype": "text/x-python",
   "name": "python",
   "nbconvert_exporter": "python",
   "pygments_lexer": "ipython3",
   "version": "3.6.7"
  }
 },
 "nbformat": 4,
 "nbformat_minor": 4
}
