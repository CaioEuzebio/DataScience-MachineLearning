{
 "cells": [
  {
   "cell_type": "markdown",
   "metadata": {},
   "source": [
    "# Seleção Condicional De Dados em um DataFrame"
   ]
  },
  {
   "cell_type": "markdown",
   "metadata": {},
   "source": [
    "##### Por: Caio Euzébio"
   ]
  },
  {
   "cell_type": "code",
   "execution_count": 1,
   "metadata": {},
   "outputs": [],
   "source": [
    "# importando as pandas e numpy\n",
    "\n",
    "import pandas as pd\n",
    "import numpy as np"
   ]
  },
  {
   "cell_type": "code",
   "execution_count": 2,
   "metadata": {},
   "outputs": [
    {
     "data": {
      "text/html": [
       "<div>\n",
       "<style scoped>\n",
       "    .dataframe tbody tr th:only-of-type {\n",
       "        vertical-align: middle;\n",
       "    }\n",
       "\n",
       "    .dataframe tbody tr th {\n",
       "        vertical-align: top;\n",
       "    }\n",
       "\n",
       "    .dataframe thead th {\n",
       "        text-align: right;\n",
       "    }\n",
       "</style>\n",
       "<table border=\"1\" class=\"dataframe\">\n",
       "  <thead>\n",
       "    <tr style=\"text-align: right;\">\n",
       "      <th></th>\n",
       "      <th>A</th>\n",
       "      <th>B</th>\n",
       "      <th>C</th>\n",
       "      <th>D</th>\n",
       "      <th>E</th>\n",
       "    </tr>\n",
       "  </thead>\n",
       "  <tbody>\n",
       "    <tr>\n",
       "      <td>0</td>\n",
       "      <td>-0.019729</td>\n",
       "      <td>0.030627</td>\n",
       "      <td>-0.602585</td>\n",
       "      <td>0.537637</td>\n",
       "      <td>1.028093</td>\n",
       "    </tr>\n",
       "    <tr>\n",
       "      <td>1</td>\n",
       "      <td>0.640533</td>\n",
       "      <td>-1.355894</td>\n",
       "      <td>-0.739475</td>\n",
       "      <td>1.249446</td>\n",
       "      <td>-0.128433</td>\n",
       "    </tr>\n",
       "    <tr>\n",
       "      <td>2</td>\n",
       "      <td>-0.560715</td>\n",
       "      <td>0.917258</td>\n",
       "      <td>0.415654</td>\n",
       "      <td>0.806890</td>\n",
       "      <td>-0.041287</td>\n",
       "    </tr>\n",
       "    <tr>\n",
       "      <td>3</td>\n",
       "      <td>-0.199778</td>\n",
       "      <td>-0.970306</td>\n",
       "      <td>0.583528</td>\n",
       "      <td>-0.761213</td>\n",
       "      <td>-0.267761</td>\n",
       "    </tr>\n",
       "    <tr>\n",
       "      <td>4</td>\n",
       "      <td>-0.282399</td>\n",
       "      <td>-1.607285</td>\n",
       "      <td>0.108684</td>\n",
       "      <td>0.548144</td>\n",
       "      <td>-0.397325</td>\n",
       "    </tr>\n",
       "  </tbody>\n",
       "</table>\n",
       "</div>"
      ],
      "text/plain": [
       "          A         B         C         D         E\n",
       "0 -0.019729  0.030627 -0.602585  0.537637  1.028093\n",
       "1  0.640533 -1.355894 -0.739475  1.249446 -0.128433\n",
       "2 -0.560715  0.917258  0.415654  0.806890 -0.041287\n",
       "3 -0.199778 -0.970306  0.583528 -0.761213 -0.267761\n",
       "4 -0.282399 -1.607285  0.108684  0.548144 -0.397325"
      ]
     },
     "execution_count": 2,
     "metadata": {},
     "output_type": "execute_result"
    }
   ],
   "source": [
    "# criando um DataFrame com intervalo de numeros aleatorios utilizando o numpy + pandas.\n",
    "\n",
    "df = pd.DataFrame(np.random.randn(5,5), index='0 1 2 3 4'.split(), columns=' A B C D E'.split())\n",
    "df"
   ]
  },
  {
   "cell_type": "code",
   "execution_count": 3,
   "metadata": {},
   "outputs": [],
   "source": [
    "# Testando os valores do DataFrame utilizndo metodo de boleanos\n",
    "\n",
    "test = df > 0"
   ]
  },
  {
   "cell_type": "code",
   "execution_count": 5,
   "metadata": {},
   "outputs": [
    {
     "data": {
      "text/html": [
       "<div>\n",
       "<style scoped>\n",
       "    .dataframe tbody tr th:only-of-type {\n",
       "        vertical-align: middle;\n",
       "    }\n",
       "\n",
       "    .dataframe tbody tr th {\n",
       "        vertical-align: top;\n",
       "    }\n",
       "\n",
       "    .dataframe thead th {\n",
       "        text-align: right;\n",
       "    }\n",
       "</style>\n",
       "<table border=\"1\" class=\"dataframe\">\n",
       "  <thead>\n",
       "    <tr style=\"text-align: right;\">\n",
       "      <th></th>\n",
       "      <th>A</th>\n",
       "      <th>B</th>\n",
       "      <th>C</th>\n",
       "      <th>D</th>\n",
       "      <th>E</th>\n",
       "    </tr>\n",
       "  </thead>\n",
       "  <tbody>\n",
       "    <tr>\n",
       "      <td>0</td>\n",
       "      <td>NaN</td>\n",
       "      <td>0.030627</td>\n",
       "      <td>NaN</td>\n",
       "      <td>0.537637</td>\n",
       "      <td>1.028093</td>\n",
       "    </tr>\n",
       "    <tr>\n",
       "      <td>1</td>\n",
       "      <td>0.640533</td>\n",
       "      <td>NaN</td>\n",
       "      <td>NaN</td>\n",
       "      <td>1.249446</td>\n",
       "      <td>NaN</td>\n",
       "    </tr>\n",
       "    <tr>\n",
       "      <td>2</td>\n",
       "      <td>NaN</td>\n",
       "      <td>0.917258</td>\n",
       "      <td>0.415654</td>\n",
       "      <td>0.806890</td>\n",
       "      <td>NaN</td>\n",
       "    </tr>\n",
       "    <tr>\n",
       "      <td>3</td>\n",
       "      <td>NaN</td>\n",
       "      <td>NaN</td>\n",
       "      <td>0.583528</td>\n",
       "      <td>NaN</td>\n",
       "      <td>NaN</td>\n",
       "    </tr>\n",
       "    <tr>\n",
       "      <td>4</td>\n",
       "      <td>NaN</td>\n",
       "      <td>NaN</td>\n",
       "      <td>0.108684</td>\n",
       "      <td>0.548144</td>\n",
       "      <td>NaN</td>\n",
       "    </tr>\n",
       "  </tbody>\n",
       "</table>\n",
       "</div>"
      ],
      "text/plain": [
       "          A         B         C         D         E\n",
       "0       NaN  0.030627       NaN  0.537637  1.028093\n",
       "1  0.640533       NaN       NaN  1.249446       NaN\n",
       "2       NaN  0.917258  0.415654  0.806890       NaN\n",
       "3       NaN       NaN  0.583528       NaN       NaN\n",
       "4       NaN       NaN  0.108684  0.548144       NaN"
      ]
     },
     "execution_count": 5,
     "metadata": {},
     "output_type": "execute_result"
    }
   ],
   "source": [
    "# O mesmo ira retornar \"NaN\" a todos os valores que nao atendem ao test\n",
    "\n",
    "df[test]"
   ]
  },
  {
   "cell_type": "code",
   "execution_count": 8,
   "metadata": {},
   "outputs": [
    {
     "data": {
      "text/html": [
       "<div>\n",
       "<style scoped>\n",
       "    .dataframe tbody tr th:only-of-type {\n",
       "        vertical-align: middle;\n",
       "    }\n",
       "\n",
       "    .dataframe tbody tr th {\n",
       "        vertical-align: top;\n",
       "    }\n",
       "\n",
       "    .dataframe thead th {\n",
       "        text-align: right;\n",
       "    }\n",
       "</style>\n",
       "<table border=\"1\" class=\"dataframe\">\n",
       "  <thead>\n",
       "    <tr style=\"text-align: right;\">\n",
       "      <th></th>\n",
       "      <th>A</th>\n",
       "      <th>B</th>\n",
       "      <th>C</th>\n",
       "      <th>D</th>\n",
       "      <th>E</th>\n",
       "    </tr>\n",
       "  </thead>\n",
       "  <tbody>\n",
       "    <tr>\n",
       "      <td>0</td>\n",
       "      <td>-0.019729</td>\n",
       "      <td>0.030627</td>\n",
       "      <td>-0.602585</td>\n",
       "      <td>0.537637</td>\n",
       "      <td>1.028093</td>\n",
       "    </tr>\n",
       "    <tr>\n",
       "      <td>1</td>\n",
       "      <td>0.640533</td>\n",
       "      <td>-1.355894</td>\n",
       "      <td>-0.739475</td>\n",
       "      <td>1.249446</td>\n",
       "      <td>-0.128433</td>\n",
       "    </tr>\n",
       "    <tr>\n",
       "      <td>2</td>\n",
       "      <td>-0.560715</td>\n",
       "      <td>0.917258</td>\n",
       "      <td>0.415654</td>\n",
       "      <td>0.806890</td>\n",
       "      <td>-0.041287</td>\n",
       "    </tr>\n",
       "    <tr>\n",
       "      <td>4</td>\n",
       "      <td>-0.282399</td>\n",
       "      <td>-1.607285</td>\n",
       "      <td>0.108684</td>\n",
       "      <td>0.548144</td>\n",
       "      <td>-0.397325</td>\n",
       "    </tr>\n",
       "  </tbody>\n",
       "</table>\n",
       "</div>"
      ],
      "text/plain": [
       "          A         B         C         D         E\n",
       "0 -0.019729  0.030627 -0.602585  0.537637  1.028093\n",
       "1  0.640533 -1.355894 -0.739475  1.249446 -0.128433\n",
       "2 -0.560715  0.917258  0.415654  0.806890 -0.041287\n",
       "4 -0.282399 -1.607285  0.108684  0.548144 -0.397325"
      ]
     },
     "execution_count": 8,
     "metadata": {},
     "output_type": "execute_result"
    }
   ],
   "source": [
    "# Realizando a o mesma seleção condicional basenado-se apenas em uma coluna/series\n",
    "\n",
    "df[df['D']>0]"
   ]
  },
  {
   "cell_type": "code",
   "execution_count": 11,
   "metadata": {},
   "outputs": [
    {
     "data": {
      "text/plain": [
       "0   -0.019729\n",
       "1    0.640533\n",
       "2   -0.560715\n",
       "4   -0.282399\n",
       "Name: A, dtype: float64"
      ]
     },
     "execution_count": 11,
     "metadata": {},
     "output_type": "execute_result"
    }
   ],
   "source": [
    "# Seleção condional realizando teste em uma coluna e retornando os valores de outra\n",
    "\n",
    "df[df['D']>0]['A']"
   ]
  },
  {
   "cell_type": "code",
   "execution_count": 12,
   "metadata": {},
   "outputs": [],
   "source": [
    "# Realizando o mesmo teste/seleção acima com boleanos"
   ]
  },
  {
   "cell_type": "code",
   "execution_count": 16,
   "metadata": {},
   "outputs": [
    {
     "data": {
      "text/plain": [
       "0   -0.019729\n",
       "1    0.640533\n",
       "2   -0.560715\n",
       "4   -0.282399\n",
       "Name: A, dtype: float64"
      ]
     },
     "execution_count": 16,
     "metadata": {},
     "output_type": "execute_result"
    }
   ],
   "source": [
    "test = df['D']>0\n",
    "dftest = df[test]\n",
    "dftest['A']"
   ]
  },
  {
   "cell_type": "code",
   "execution_count": 19,
   "metadata": {},
   "outputs": [
    {
     "data": {
      "text/html": [
       "<div>\n",
       "<style scoped>\n",
       "    .dataframe tbody tr th:only-of-type {\n",
       "        vertical-align: middle;\n",
       "    }\n",
       "\n",
       "    .dataframe tbody tr th {\n",
       "        vertical-align: top;\n",
       "    }\n",
       "\n",
       "    .dataframe thead th {\n",
       "        text-align: right;\n",
       "    }\n",
       "</style>\n",
       "<table border=\"1\" class=\"dataframe\">\n",
       "  <thead>\n",
       "    <tr style=\"text-align: right;\">\n",
       "      <th></th>\n",
       "      <th>A</th>\n",
       "      <th>B</th>\n",
       "      <th>C</th>\n",
       "      <th>D</th>\n",
       "      <th>E</th>\n",
       "    </tr>\n",
       "  </thead>\n",
       "  <tbody>\n",
       "    <tr>\n",
       "      <td>1</td>\n",
       "      <td>0.640533</td>\n",
       "      <td>-1.355894</td>\n",
       "      <td>-0.739475</td>\n",
       "      <td>1.249446</td>\n",
       "      <td>-0.128433</td>\n",
       "    </tr>\n",
       "  </tbody>\n",
       "</table>\n",
       "</div>"
      ],
      "text/plain": [
       "          A         B         C         D         E\n",
       "1  0.640533 -1.355894 -0.739475  1.249446 -0.128433"
      ]
     },
     "execution_count": 19,
     "metadata": {},
     "output_type": "execute_result"
    }
   ],
   "source": [
    "# Realizando seleção com multiplas condicionais\n",
    "\n",
    "df[(df['D']>0) & (df['A']>.6)]"
   ]
  },
  {
   "cell_type": "code",
   "execution_count": 20,
   "metadata": {},
   "outputs": [],
   "source": [
    "# Reajustando/Resetando indice com metodo 'reset_index'\n",
    "\n",
    "df.reset_index(inplace=True)"
   ]
  },
  {
   "cell_type": "code",
   "execution_count": 21,
   "metadata": {},
   "outputs": [
    {
     "data": {
      "text/html": [
       "<div>\n",
       "<style scoped>\n",
       "    .dataframe tbody tr th:only-of-type {\n",
       "        vertical-align: middle;\n",
       "    }\n",
       "\n",
       "    .dataframe tbody tr th {\n",
       "        vertical-align: top;\n",
       "    }\n",
       "\n",
       "    .dataframe thead th {\n",
       "        text-align: right;\n",
       "    }\n",
       "</style>\n",
       "<table border=\"1\" class=\"dataframe\">\n",
       "  <thead>\n",
       "    <tr style=\"text-align: right;\">\n",
       "      <th></th>\n",
       "      <th>index</th>\n",
       "      <th>A</th>\n",
       "      <th>B</th>\n",
       "      <th>C</th>\n",
       "      <th>D</th>\n",
       "      <th>E</th>\n",
       "    </tr>\n",
       "  </thead>\n",
       "  <tbody>\n",
       "    <tr>\n",
       "      <td>0</td>\n",
       "      <td>0</td>\n",
       "      <td>-0.019729</td>\n",
       "      <td>0.030627</td>\n",
       "      <td>-0.602585</td>\n",
       "      <td>0.537637</td>\n",
       "      <td>1.028093</td>\n",
       "    </tr>\n",
       "    <tr>\n",
       "      <td>1</td>\n",
       "      <td>1</td>\n",
       "      <td>0.640533</td>\n",
       "      <td>-1.355894</td>\n",
       "      <td>-0.739475</td>\n",
       "      <td>1.249446</td>\n",
       "      <td>-0.128433</td>\n",
       "    </tr>\n",
       "    <tr>\n",
       "      <td>2</td>\n",
       "      <td>2</td>\n",
       "      <td>-0.560715</td>\n",
       "      <td>0.917258</td>\n",
       "      <td>0.415654</td>\n",
       "      <td>0.806890</td>\n",
       "      <td>-0.041287</td>\n",
       "    </tr>\n",
       "    <tr>\n",
       "      <td>3</td>\n",
       "      <td>3</td>\n",
       "      <td>-0.199778</td>\n",
       "      <td>-0.970306</td>\n",
       "      <td>0.583528</td>\n",
       "      <td>-0.761213</td>\n",
       "      <td>-0.267761</td>\n",
       "    </tr>\n",
       "    <tr>\n",
       "      <td>4</td>\n",
       "      <td>4</td>\n",
       "      <td>-0.282399</td>\n",
       "      <td>-1.607285</td>\n",
       "      <td>0.108684</td>\n",
       "      <td>0.548144</td>\n",
       "      <td>-0.397325</td>\n",
       "    </tr>\n",
       "  </tbody>\n",
       "</table>\n",
       "</div>"
      ],
      "text/plain": [
       "  index         A         B         C         D         E\n",
       "0     0 -0.019729  0.030627 -0.602585  0.537637  1.028093\n",
       "1     1  0.640533 -1.355894 -0.739475  1.249446 -0.128433\n",
       "2     2 -0.560715  0.917258  0.415654  0.806890 -0.041287\n",
       "3     3 -0.199778 -0.970306  0.583528 -0.761213 -0.267761\n",
       "4     4 -0.282399 -1.607285  0.108684  0.548144 -0.397325"
      ]
     },
     "execution_count": 21,
     "metadata": {},
     "output_type": "execute_result"
    }
   ],
   "source": [
    "df"
   ]
  },
  {
   "cell_type": "code",
   "execution_count": 23,
   "metadata": {},
   "outputs": [],
   "source": [
    "# Alterando o indice a partir de uma coluna\n",
    "\n",
    "df.set_index('A', inplace=True)"
   ]
  },
  {
   "cell_type": "code",
   "execution_count": 24,
   "metadata": {},
   "outputs": [
    {
     "data": {
      "text/html": [
       "<div>\n",
       "<style scoped>\n",
       "    .dataframe tbody tr th:only-of-type {\n",
       "        vertical-align: middle;\n",
       "    }\n",
       "\n",
       "    .dataframe tbody tr th {\n",
       "        vertical-align: top;\n",
       "    }\n",
       "\n",
       "    .dataframe thead th {\n",
       "        text-align: right;\n",
       "    }\n",
       "</style>\n",
       "<table border=\"1\" class=\"dataframe\">\n",
       "  <thead>\n",
       "    <tr style=\"text-align: right;\">\n",
       "      <th></th>\n",
       "      <th>index</th>\n",
       "      <th>B</th>\n",
       "      <th>C</th>\n",
       "      <th>D</th>\n",
       "      <th>E</th>\n",
       "    </tr>\n",
       "    <tr>\n",
       "      <th>A</th>\n",
       "      <th></th>\n",
       "      <th></th>\n",
       "      <th></th>\n",
       "      <th></th>\n",
       "      <th></th>\n",
       "    </tr>\n",
       "  </thead>\n",
       "  <tbody>\n",
       "    <tr>\n",
       "      <td>-0.019729</td>\n",
       "      <td>0</td>\n",
       "      <td>0.030627</td>\n",
       "      <td>-0.602585</td>\n",
       "      <td>0.537637</td>\n",
       "      <td>1.028093</td>\n",
       "    </tr>\n",
       "    <tr>\n",
       "      <td>0.640533</td>\n",
       "      <td>1</td>\n",
       "      <td>-1.355894</td>\n",
       "      <td>-0.739475</td>\n",
       "      <td>1.249446</td>\n",
       "      <td>-0.128433</td>\n",
       "    </tr>\n",
       "    <tr>\n",
       "      <td>-0.560715</td>\n",
       "      <td>2</td>\n",
       "      <td>0.917258</td>\n",
       "      <td>0.415654</td>\n",
       "      <td>0.806890</td>\n",
       "      <td>-0.041287</td>\n",
       "    </tr>\n",
       "    <tr>\n",
       "      <td>-0.199778</td>\n",
       "      <td>3</td>\n",
       "      <td>-0.970306</td>\n",
       "      <td>0.583528</td>\n",
       "      <td>-0.761213</td>\n",
       "      <td>-0.267761</td>\n",
       "    </tr>\n",
       "    <tr>\n",
       "      <td>-0.282399</td>\n",
       "      <td>4</td>\n",
       "      <td>-1.607285</td>\n",
       "      <td>0.108684</td>\n",
       "      <td>0.548144</td>\n",
       "      <td>-0.397325</td>\n",
       "    </tr>\n",
       "  </tbody>\n",
       "</table>\n",
       "</div>"
      ],
      "text/plain": [
       "          index         B         C         D         E\n",
       "A                                                      \n",
       "-0.019729     0  0.030627 -0.602585  0.537637  1.028093\n",
       " 0.640533     1 -1.355894 -0.739475  1.249446 -0.128433\n",
       "-0.560715     2  0.917258  0.415654  0.806890 -0.041287\n",
       "-0.199778     3 -0.970306  0.583528 -0.761213 -0.267761\n",
       "-0.282399     4 -1.607285  0.108684  0.548144 -0.397325"
      ]
     },
     "execution_count": 24,
     "metadata": {},
     "output_type": "execute_result"
    }
   ],
   "source": [
    "df"
   ]
  },
  {
   "cell_type": "code",
   "execution_count": null,
   "metadata": {},
   "outputs": [],
   "source": []
  }
 ],
 "metadata": {
  "kernelspec": {
   "display_name": "Python 3",
   "language": "python",
   "name": "python3"
  },
  "language_info": {
   "codemirror_mode": {
    "name": "ipython",
    "version": 3
   },
   "file_extension": ".py",
   "mimetype": "text/x-python",
   "name": "python",
   "nbconvert_exporter": "python",
   "pygments_lexer": "ipython3",
   "version": "3.6.7"
  }
 },
 "nbformat": 4,
 "nbformat_minor": 4
}
